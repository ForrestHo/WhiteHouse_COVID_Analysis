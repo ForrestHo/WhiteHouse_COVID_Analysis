{
 "cells": [
  {
   "cell_type": "markdown",
   "metadata": {},
   "source": [
    "# Covid-19 Whitehouse Project"
   ]
  },
  {
   "cell_type": "markdown",
   "metadata": {},
   "source": [
    "The US coronovirus task force was found on the 29th of Janurary 2020. The aim is to collect data on press releases on the whitehouse website from the task force's formation date to 27th of June 2020. Links for the websites were found through filtering for healthcare press releases on the whitehouse, which stretched back to page 31 as of 27th June 2020."
   ]
  },
  {
   "cell_type": "code",
   "execution_count": 36,
   "metadata": {},
   "outputs": [],
   "source": [
    "# Find links of all articles containing 'coronovirus'\n",
    "pages = [i for i in range(2,32)]\n",
    "page_links = ['https://www.whitehouse.gov/news/?issue_filter=healthcare']\n",
    "\n",
    "for nums in pages:\n",
    "    page_links.append(f'https://www.whitehouse.gov/news/page/{nums}/?issue_filter=healthcare')"
   ]
  },
  {
   "cell_type": "code",
   "execution_count": 39,
   "metadata": {},
   "outputs": [],
   "source": [
    "# Generic function to get links, check for key words and append to main list\n",
    "\n",
    "from bs4 import BeautifulSoup\n",
    "import requests\n",
    "\n",
    "key_words = ['CORONAVIRUS', 'Coronavirus', 'coronavirus', 'Covid-19', 'COVID-19', 'COVID', 'covid-19', 'SARS-CoV-2']\n",
    "all_links = []\n",
    "\n",
    "def find_covid(link):\n",
    "    source = requests.get(link).text\n",
    "    soup = BeautifulSoup(source, 'lxml')\n",
    "    \n",
    "    for article in soup.find_all('div', class_='briefing-statement__content'):\n",
    "        link = article.h2.a['href']\n",
    "        for word in key_words:\n",
    "            if word in link:\n",
    "                all_links.append(link)"
   ]
  },
  {
   "cell_type": "markdown",
   "metadata": {},
   "source": [
    "<font color='red'>One problem encountered here is that there are two articles which satsify the critera but were not picked up by the scrapping algorithm because they were authored by Mike Pence. These articles resulted invovled a different class in their HTML code which caused them to not be picked up. Since articles authored by Pence can be manually found on https://www.whitehouse.gov/people/mike-pence/, they can easily be added into the list if so desired. \n",
    "    \n",
    "For the purposes of this analysis, they were left out.</font>"
   ]
  },
  {
   "cell_type": "code",
   "execution_count": 40,
   "metadata": {},
   "outputs": [
    {
     "name": "stdout",
     "output_type": "stream",
     "text": [
      "['https://www.whitehouse.gov/briefings-statements/readout-vice-presidents-governors-briefing-covid-19-response-recovery-2/', 'https://www.whitehouse.gov/briefings-statements/readout-vice-presidents-governors-briefing-covid-19-response-recovery-supporting-americas-workers/', 'https://www.whitehouse.gov/briefings-statements/readout-governors-briefing-covid-19-response-re-opening-efforts-2/', 'https://www.whitehouse.gov/briefings-statements/readout-vice-presidents-governors-briefing-covid-19-response-recovery/', 'https://www.whitehouse.gov/briefings-statements/readout-governors-briefing-covid-19-response-re-opening-efforts/', 'https://www.whitehouse.gov/briefings-statements/readout-state-local-stakeholder-call-covid-19-response/', 'https://www.whitehouse.gov/briefings-statements/readout-governors-briefing-covid-19-response-ensuring-well-americans/', 'https://www.whitehouse.gov/briefings-statements/new-members-white-house-coronavirus-task-force-announced/', 'https://www.whitehouse.gov/briefings-statements/president-donald-j-trump-committed-providing-support-underserved-communities-impacted-coronavirus-pandemic/', 'https://www.whitehouse.gov/briefings-statements/remarks-president-trump-press-briefing-covid-19-testing/', 'https://www.whitehouse.gov/briefings-statements/united-states-built-worlds-leading-coronavirus-testing-system/', 'https://www.whitehouse.gov/briefings-statements/president-donald-j-trump-protecting-native-american-community-combat-coronavirus/', 'https://www.whitehouse.gov/briefings-statements/president-donald-j-trump-remains-committed-caring-nations-seniors-coronavirus-pandemic-beyond/', 'https://www.whitehouse.gov/briefings-statements/remarks-president-trump-vice-president-pence-members-coronavirus-task-force-press-briefing-33/', 'https://www.whitehouse.gov/briefings-statements/remarks-president-trump-vice-president-pence-members-coronavirus-task-force-press-briefing-32/', 'https://www.whitehouse.gov/briefings-statements/remarks-president-trump-meeting-industry-executives-covid-19-response/', 'https://www.whitehouse.gov/briefings-statements/remarks-president-trump-vice-president-pence-members-coronavirus-task-force-press-briefing-31/', 'https://www.whitehouse.gov/briefings-statements/remarks-president-trump-vice-president-pence-members-coronavirus-task-force-press-briefing-30/', 'https://www.whitehouse.gov/briefings-statements/remarks-president-trump-members-coronavirus-task-force-press-briefing-3/', 'https://www.whitehouse.gov/briefings-statements/remarks-president-trump-vice-president-pence-members-coronavirus-task-force-press-briefing-29/', 'https://www.whitehouse.gov/briefings-statements/remarks-president-trump-vice-president-pence-members-coronavirus-task-force-press-briefing-28/', 'https://www.whitehouse.gov/briefings-statements/remarks-president-trump-members-coronavirus-task-force-press-briefing-2/', 'https://www.whitehouse.gov/briefings-statements/remarks-president-trump-vice-president-pence-members-coronavirus-task-force-press-briefing-april-17-2020/', 'https://www.whitehouse.gov/briefings-statements/remarks-president-trump-vice-president-pence-members-coronavirus-task-force-press-briefing-27/', 'https://www.whitehouse.gov/briefings-statements/president-donald-j-trump-beginning-next-phase-fight-coronavirus-guidelines-opening-america/', 'https://www.whitehouse.gov/briefings-statements/remarks-president-trump-vice-president-pence-members-coronavirus-task-force-press-briefing-26/', 'https://www.whitehouse.gov/briefings-statements/remarks-president-trump-meeting-recovered-covid-19-patients/', 'https://www.whitehouse.gov/briefings-statements/remarks-president-trump-vice-president-pence-members-coronavirus-task-force-press-briefing-25/', 'https://www.whitehouse.gov/briefings-statements/remarks-president-trump-vice-president-pence-members-coronavirus-task-force-press-briefing-24/', 'https://www.whitehouse.gov/briefings-statements/readout-vice-presidents-discussion-african-american-leaders-covid-19/', 'https://www.whitehouse.gov/briefings-statements/remarks-president-trump-vice-president-pence-members-coronavirus-task-force-press-briefing-23/', 'https://www.whitehouse.gov/briefings-statements/remarks-president-trump-vice-president-pence-members-coronavirus-task-force-press-briefing-22/', 'https://www.whitehouse.gov/briefings-statements/remarks-president-trump-vice-president-pence-members-coronavirus-task-force-press-briefing-april-7-2020/', 'https://www.whitehouse.gov/briefings-statements/remarks-president-trump-vice-president-pence-members-coronavirus-task-force-press-briefing-21/', 'https://www.whitehouse.gov/briefings-statements/readout-vice-presidents-video-teleconference-governors-partnership-prepare-respond-covid-19/', 'https://www.whitehouse.gov/briefings-statements/remarks-president-trump-vice-president-pence-members-coronavirus-task-force-press-briefing-20/', 'https://www.whitehouse.gov/briefings-statements/remarks-president-trump-vice-president-pence-members-coronavirus-task-force-press-briefing-19/', 'https://www.whitehouse.gov/briefings-statements/remarks-president-trump-vice-president-pence-members-coronavirus-task-force-press-briefing-18/', 'https://www.whitehouse.gov/briefings-statements/remarks-president-trump-vice-president-pence-members-coronavirus-task-force-press-briefing-17/', 'https://www.whitehouse.gov/briefings-statements/remarks-president-trump-vice-president-pence-members-coronavirus-task-force-press-briefing-16/', 'https://www.whitehouse.gov/briefings-statements/remarks-president-trump-vice-president-pence-members-coronavirus-task-force-press-briefing-15/', 'https://www.whitehouse.gov/briefings-statements/remarks-president-trump-members-coronavirus-task-force-press-briefing/', 'https://www.whitehouse.gov/briefings-statements/remarks-president-trump-vice-president-pence-members-coronavirus-task-force-press-briefing-14/', 'https://www.whitehouse.gov/briefings-statements/remarks-president-trump-meeting-supply-chain-distributors-covid-19/', 'https://www.whitehouse.gov/briefings-statements/remarks-president-trump-vice-president-pence-members-coronavirus-task-force-press-briefing-13/', 'https://www.whitehouse.gov/briefings-statements/president-donald-j-trump-providing-economic-relief-american-workers-families-businesses-impacted-coronavirus/', 'https://www.whitehouse.gov/briefings-statements/remarks-president-trump-vice-president-pence-members-coronavirus-task-force-press-briefing-12/', 'https://www.whitehouse.gov/briefings-statements/remarks-president-trump-vice-president-pence-members-coronavirus-task-force-press-briefing-11/', 'https://www.whitehouse.gov/briefings-statements/remarks-president-trump-vice-president-pence-members-coronavirus-task-force-fox-news-virtual-town-hall/', 'https://www.whitehouse.gov/briefings-statements/remarks-president-trump-vice-president-pence-members-coronavirus-task-force-press-briefing-10/', 'https://www.whitehouse.gov/briefings-statements/remarks-president-trump-vice-president-pence-members-coronavirus-task-force-press-briefing-9/', 'https://www.whitehouse.gov/briefings-statements/president-donald-j-trump-will-not-tolerate-price-gouging-hoarding-critical-supplies-needed-combat-coronavirus/', 'https://www.whitehouse.gov/briefings-statements/readout-vice-presidents-video-teleconference-governors-partnership-prepare-mitigate-respond-covid-19/', 'https://www.whitehouse.gov/briefings-statements/remarks-vice-president-pence-video-teleconference-governors-partnership-prepare-mitigate-respond-covid-19/', 'https://www.whitehouse.gov/briefings-statements/white-house-announces-new-partnership-unleash-u-s-supercomputing-resources-fight-covid-19/', 'https://www.whitehouse.gov/briefings-statements/remarks-president-trump-vice-president-pence-members-coronavirus-task-force-press-briefing-8/', 'https://www.whitehouse.gov/briefings-statements/remarks-president-trump-vice-president-pence-members-coronavirus-task-force-press-briefing-7/', 'https://www.whitehouse.gov/briefings-statements/president-donald-j-trump-taking-necessary-safety-measures-border-prevent-spread-coronavirus/', 'https://www.whitehouse.gov/briefings-statements/remarks-president-trump-vice-president-pence-video-teleconference-governors-covid-19/', 'https://www.whitehouse.gov/briefings-statements/remarks-president-trump-vice-president-pence-members-coronavirus-task-force-press-briefing-6/', 'https://www.whitehouse.gov/briefings-statements/president-donald-j-trump-supporting-american-businesses-workers-families-impacted-coronavirus/', 'https://www.whitehouse.gov/briefings-statements/remarks-president-trump-vice-president-pence-briefing-nurses-covid-19-response/', 'https://www.whitehouse.gov/briefings-statements/white-house-announces-partnership-ad-council-major-media-networks-digital-platforms-covid-19-messages/', 'https://www.whitehouse.gov/briefings-statements/remarks-president-trump-vice-president-pence-members-coronavirus-task-force-press-briefing-5/', 'https://www.whitehouse.gov/briefings-statements/remarks-president-trump-meeting-tourism-industry-executives-covid-19-response/', 'https://www.whitehouse.gov/briefings-statements/remarks-president-trump-vice-president-pence-members-coronavirus-task-force-press-briefing-4/', 'https://www.whitehouse.gov/briefings-statements/fda-commissioner-stephen-hahn-wary-anyone-claiming-can-cure-covid-19-talk-doctor/', 'https://www.whitehouse.gov/briefings-statements/remarks-president-trump-vice-president-pence-members-coronavirus-task-force-press-briefing-3/', 'https://www.whitehouse.gov/briefings-statements/coronavirus-guidelines-america/', 'https://www.whitehouse.gov/briefings-statements/call-action-tech-community-new-machine-readable-covid-19-dataset/', 'https://www.whitehouse.gov/briefings-statements/remarks-president-trump-vice-president-pence-members-coronavirus-task-force-press-briefing-2/', 'https://www.whitehouse.gov/briefings-statements/remarks-president-trump-vice-president-pence-members-coronavirus-task-force-press-briefing/', 'https://www.whitehouse.gov/briefings-statements/remarks-president-trump-vice-president-pence-members-coronavirus-task-force-press-conference-3/', 'https://www.whitehouse.gov/briefings-statements/president-donald-j-trump-mobilized-full-resources-federal-government-respond-coronavirus/', 'https://www.whitehouse.gov/briefings-statements/message-congress-declaring-national-emergency-concerning-novel-coronavirus-disease-covid-19-outbreak/', 'https://www.whitehouse.gov/briefings-statements/message-congress-declaring-national-emergency-concerning-novel-coronavirus-disease-covid-19-outbreak/', 'https://www.whitehouse.gov/briefings-statements/president-donald-j-trump-taken-unprecedented-steps-respond-coronavirus-protect-health-safety-americans/', 'https://www.whitehouse.gov/briefings-statements/remarks-president-trump-meeting-bankers-covid-19/', 'https://www.whitehouse.gov/briefings-statements/white-house-coronavirus-task-force-announces-community-mitigation-strategies-seattle-santa-clara/', 'https://www.whitehouse.gov/briefings-statements/press-briefing-vice-president-pence-members-coronavirus-task-force/', 'https://www.whitehouse.gov/briefings-statements/remarks-president-trump-vice-president-pence-coronavirus-briefing-health-insurers/', 'https://www.whitehouse.gov/briefings-statements/remarks-president-trump-vice-president-pence-members-white-house-coronavirus-task-force-press-briefing/', 'https://www.whitehouse.gov/briefings-statements/readout-vice-presidents-discussion-nations-governors-covid-19-coordination-preparedness-2/', 'https://www.whitehouse.gov/briefings-statements/remarks-vice-president-pence-coronavirus-briefing-cruise-line-executives-port-directors-ft-lauderdale-fl/', 'https://www.whitehouse.gov/briefings-statements/press-briefing-vice-president-pence-members-white-house-coronavirus-task-force-3/', 'https://www.whitehouse.gov/briefings-statements/remarks-president-trump-signing-coronavirus-preparedness-response-supplemental-appropriations-act-2020/', 'https://www.whitehouse.gov/briefings-statements/press-briefing-vice-president-pence-members-white-house-coronavirus-task-force-2/', 'https://www.whitehouse.gov/briefings-statements/remarks-vice-president-pence-coronavirus-briefing-diagnostic-lab-ceos/', 'https://www.whitehouse.gov/briefings-statements/remarks-president-trump-vice-president-pence-coronavirus-briefing-airline-ceos/', 'https://www.whitehouse.gov/briefings-statements/press-briefing-vice-president-pence-members-white-house-coronavirus-task-force/', 'https://www.whitehouse.gov/briefings-statements/remarks-president-trump-roundtable-briefing-coronavirus-bethesda-md/', 'https://www.whitehouse.gov/briefings-statements/vice-president-pence-secretary-azar-add-key-administration-officials-coronavirus-task-force-3/', 'https://www.whitehouse.gov/briefings-statements/readout-vice-presidents-discussion-nations-governors-covid-19-coordination-preparedness/', 'https://www.whitehouse.gov/briefings-statements/vice-president-pence-secretary-azar-add-key-administration-officials-coronavirus-task-force-2/', 'https://www.whitehouse.gov/briefings-statements/remarks-president-trump-vice-president-pence-members-coronavirus-task-force-press-conference-2/', 'https://www.whitehouse.gov/briefings-statements/remarks-president-trump-vice-president-pence-members-coronavirus-task-force-press-conference/', 'https://www.whitehouse.gov/briefings-statements/press-briefing-members-presidents-coronavirus-task-force/', 'https://www.whitehouse.gov/briefings-statements/statement-press-secretary-regarding-presidents-coronavirus-task-force/']\n"
     ]
    }
   ],
   "source": [
    "# Finding all links containing key words\n",
    "\n",
    "key_words = ['CORONAVIRUS', 'Coronavirus', 'coronavirus', 'Covid-19', 'COVID-19', 'COVID', 'covid-19', 'SARS-CoV-2']\n",
    "all_links = []\n",
    "\n",
    "for link in page_links:\n",
    "    find_covid(link)\n",
    "    \n",
    "print(all_links)"
   ]
  },
  {
   "cell_type": "code",
   "execution_count": null,
   "metadata": {},
   "outputs": [],
   "source": []
  }
 ],
 "metadata": {
  "kernelspec": {
   "display_name": "Python 3",
   "language": "python",
   "name": "python3"
  },
  "language_info": {
   "codemirror_mode": {
    "name": "ipython",
    "version": 3
   },
   "file_extension": ".py",
   "mimetype": "text/x-python",
   "name": "python",
   "nbconvert_exporter": "python",
   "pygments_lexer": "ipython3",
   "version": "3.8.3"
  }
 },
 "nbformat": 4,
 "nbformat_minor": 4
}
